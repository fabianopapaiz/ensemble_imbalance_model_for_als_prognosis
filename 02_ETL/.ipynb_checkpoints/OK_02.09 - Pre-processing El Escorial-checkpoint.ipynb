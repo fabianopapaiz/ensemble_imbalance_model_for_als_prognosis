{
 "cells": [
  {
   "cell_type": "code",
   "execution_count": 28,
   "metadata": {},
   "outputs": [
    {
     "name": "stdout",
     "output_type": "stream",
     "text": [
      "The autoreload extension is already loaded. To reload it, use:\n",
      "  %reload_ext autoreload\n"
     ]
    }
   ],
   "source": [
    "%load_ext autoreload\n",
    "%autoreload 2\n",
    "\n",
    "import sys\n",
    "import os\n",
    "\n",
    "#needed to import utils.py\n",
    "sys.path.append('../') \n",
    "\n",
    "import utils\n",
    "import numpy as np\n",
    "import pandas as pd\n",
    "\n",
    "%matplotlib inline  "
   ]
  },
  {
   "cell_type": "markdown",
   "metadata": {},
   "source": [
    "---\n",
    "### Read data from `Pre-processed` CSV and `El Escorial` csv file"
   ]
  },
  {
   "cell_type": "markdown",
   "metadata": {},
   "source": [
    "##### Read  `pre-processed` CSV file"
   ]
  },
  {
   "cell_type": "code",
   "execution_count": 29,
   "metadata": {},
   "outputs": [
    {
     "data": {
      "text/html": [
       "<div>\n",
       "<style scoped>\n",
       "    .dataframe tbody tr th:only-of-type {\n",
       "        vertical-align: middle;\n",
       "    }\n",
       "\n",
       "    .dataframe tbody tr th {\n",
       "        vertical-align: top;\n",
       "    }\n",
       "\n",
       "    .dataframe thead th {\n",
       "        text-align: right;\n",
       "    }\n",
       "</style>\n",
       "<table border=\"1\" class=\"dataframe\">\n",
       "  <thead>\n",
       "    <tr style=\"text-align: right;\">\n",
       "      <th></th>\n",
       "      <th>subject_id</th>\n",
       "      <th>Sex</th>\n",
       "      <th>Qty_Measurements_ALSFRS</th>\n",
       "      <th>Qty_Measurements_VITALSIGNS</th>\n",
       "      <th>Qty_Measurements_FVC</th>\n",
       "      <th>Qty_Measurements_SVC</th>\n",
       "      <th>Qty_Measurements_LABS</th>\n",
       "      <th>Qty_Measurements_HANDGRIPSTRENGTH</th>\n",
       "      <th>Qty_Measurements_MUSCLESTRENGTH</th>\n",
       "      <th>Qty_Measurements</th>\n",
       "      <th>...</th>\n",
       "      <th>Age_Range_at_Onset</th>\n",
       "      <th>Age_Range_at_Onset_Coded</th>\n",
       "      <th>Event_Dead</th>\n",
       "      <th>Event_Dead_Time_from_Onset</th>\n",
       "      <th>Group_Survival</th>\n",
       "      <th>Group_Survival_Coded</th>\n",
       "      <th>Riluzole</th>\n",
       "      <th>Riluzole_Time_from_Onset</th>\n",
       "      <th>Height_in_Meters</th>\n",
       "      <th>Qty_Measurements_BMI</th>\n",
       "    </tr>\n",
       "  </thead>\n",
       "  <tbody>\n",
       "    <tr>\n",
       "      <th>0</th>\n",
       "      <td>329</td>\n",
       "      <td>Female</td>\n",
       "      <td>12.0</td>\n",
       "      <td>13.0</td>\n",
       "      <td>8.0</td>\n",
       "      <td>0.0</td>\n",
       "      <td>465.0</td>\n",
       "      <td>0.0</td>\n",
       "      <td>0.0</td>\n",
       "      <td>498.0</td>\n",
       "      <td>...</td>\n",
       "      <td>0-39</td>\n",
       "      <td>0.0</td>\n",
       "      <td>False</td>\n",
       "      <td>65.0</td>\n",
       "      <td>Non-Short</td>\n",
       "      <td>0.0</td>\n",
       "      <td>False</td>\n",
       "      <td>56</td>\n",
       "      <td>1.58</td>\n",
       "      <td>10.0</td>\n",
       "    </tr>\n",
       "    <tr>\n",
       "      <th>1</th>\n",
       "      <td>348</td>\n",
       "      <td>Female</td>\n",
       "      <td>15.0</td>\n",
       "      <td>10.0</td>\n",
       "      <td>0.0</td>\n",
       "      <td>9.0</td>\n",
       "      <td>820.0</td>\n",
       "      <td>0.0</td>\n",
       "      <td>0.0</td>\n",
       "      <td>854.0</td>\n",
       "      <td>...</td>\n",
       "      <td>50-59</td>\n",
       "      <td>2.0</td>\n",
       "      <td>False</td>\n",
       "      <td>29.0</td>\n",
       "      <td>Non-Short</td>\n",
       "      <td>0.0</td>\n",
       "      <td>True</td>\n",
       "      <td>16</td>\n",
       "      <td>1.63</td>\n",
       "      <td>8.0</td>\n",
       "    </tr>\n",
       "    <tr>\n",
       "      <th>2</th>\n",
       "      <td>533</td>\n",
       "      <td>Female</td>\n",
       "      <td>6.0</td>\n",
       "      <td>10.0</td>\n",
       "      <td>2.0</td>\n",
       "      <td>6.0</td>\n",
       "      <td>126.0</td>\n",
       "      <td>0.0</td>\n",
       "      <td>0.0</td>\n",
       "      <td>150.0</td>\n",
       "      <td>...</td>\n",
       "      <td>60-69</td>\n",
       "      <td>3.0</td>\n",
       "      <td>False</td>\n",
       "      <td>46.0</td>\n",
       "      <td>Non-Short</td>\n",
       "      <td>0.0</td>\n",
       "      <td>False</td>\n",
       "      <td>33</td>\n",
       "      <td>1.51</td>\n",
       "      <td>7.0</td>\n",
       "    </tr>\n",
       "    <tr>\n",
       "      <th>3</th>\n",
       "      <td>586</td>\n",
       "      <td>Male</td>\n",
       "      <td>1.0</td>\n",
       "      <td>1.0</td>\n",
       "      <td>1.0</td>\n",
       "      <td>0.0</td>\n",
       "      <td>0.0</td>\n",
       "      <td>0.0</td>\n",
       "      <td>0.0</td>\n",
       "      <td>3.0</td>\n",
       "      <td>...</td>\n",
       "      <td>60-69</td>\n",
       "      <td>3.0</td>\n",
       "      <td>False</td>\n",
       "      <td>23.0</td>\n",
       "      <td>NaN</td>\n",
       "      <td>NaN</td>\n",
       "      <td>False</td>\n",
       "      <td>23</td>\n",
       "      <td>1.71</td>\n",
       "      <td>1.0</td>\n",
       "    </tr>\n",
       "    <tr>\n",
       "      <th>4</th>\n",
       "      <td>708</td>\n",
       "      <td>Male</td>\n",
       "      <td>11.0</td>\n",
       "      <td>12.0</td>\n",
       "      <td>7.0</td>\n",
       "      <td>0.0</td>\n",
       "      <td>404.0</td>\n",
       "      <td>0.0</td>\n",
       "      <td>0.0</td>\n",
       "      <td>434.0</td>\n",
       "      <td>...</td>\n",
       "      <td>40-49</td>\n",
       "      <td>1.0</td>\n",
       "      <td>True</td>\n",
       "      <td>43.0</td>\n",
       "      <td>Non-Short</td>\n",
       "      <td>0.0</td>\n",
       "      <td>False</td>\n",
       "      <td>35</td>\n",
       "      <td>1.84</td>\n",
       "      <td>8.0</td>\n",
       "    </tr>\n",
       "  </tbody>\n",
       "</table>\n",
       "<p>5 rows × 27 columns</p>\n",
       "</div>"
      ],
      "text/plain": [
       "   subject_id     Sex  Qty_Measurements_ALSFRS  Qty_Measurements_VITALSIGNS  \\\n",
       "0         329  Female                     12.0                         13.0   \n",
       "1         348  Female                     15.0                         10.0   \n",
       "2         533  Female                      6.0                         10.0   \n",
       "3         586    Male                      1.0                          1.0   \n",
       "4         708    Male                     11.0                         12.0   \n",
       "\n",
       "   Qty_Measurements_FVC  Qty_Measurements_SVC  Qty_Measurements_LABS  \\\n",
       "0                   8.0                   0.0                  465.0   \n",
       "1                   0.0                   9.0                  820.0   \n",
       "2                   2.0                   6.0                  126.0   \n",
       "3                   1.0                   0.0                    0.0   \n",
       "4                   7.0                   0.0                  404.0   \n",
       "\n",
       "   Qty_Measurements_HANDGRIPSTRENGTH  Qty_Measurements_MUSCLESTRENGTH  \\\n",
       "0                                0.0                              0.0   \n",
       "1                                0.0                              0.0   \n",
       "2                                0.0                              0.0   \n",
       "3                                0.0                              0.0   \n",
       "4                                0.0                              0.0   \n",
       "\n",
       "   Qty_Measurements  ...  Age_Range_at_Onset  Age_Range_at_Onset_Coded  \\\n",
       "0             498.0  ...                0-39                       0.0   \n",
       "1             854.0  ...               50-59                       2.0   \n",
       "2             150.0  ...               60-69                       3.0   \n",
       "3               3.0  ...               60-69                       3.0   \n",
       "4             434.0  ...               40-49                       1.0   \n",
       "\n",
       "  Event_Dead  Event_Dead_Time_from_Onset Group_Survival  Group_Survival_Coded  \\\n",
       "0      False                        65.0      Non-Short                   0.0   \n",
       "1      False                        29.0      Non-Short                   0.0   \n",
       "2      False                        46.0      Non-Short                   0.0   \n",
       "3      False                        23.0            NaN                   NaN   \n",
       "4       True                        43.0      Non-Short                   0.0   \n",
       "\n",
       "   Riluzole Riluzole_Time_from_Onset  Height_in_Meters  Qty_Measurements_BMI  \n",
       "0     False                       56              1.58                  10.0  \n",
       "1      True                       16              1.63                   8.0  \n",
       "2     False                       33              1.51                   7.0  \n",
       "3     False                       23              1.71                   1.0  \n",
       "4     False                       35              1.84                   8.0  \n",
       "\n",
       "[5 rows x 27 columns]"
      ]
     },
     "execution_count": 29,
     "metadata": {},
     "output_type": "execute_result"
    }
   ],
   "source": [
    "#set the data directory\n",
    "data_dir = os.path.abspath('../03_preprocessed_data/')\n",
    "\n",
    "#set the name of CSV file\n",
    "data_file = f'{data_dir}/_patient.csv'\n",
    "\n",
    "#read data and show some info\n",
    "df_main = pd.read_csv(data_file, delimiter=',')\n",
    "df_main.head()"
   ]
  },
  {
   "cell_type": "markdown",
   "metadata": {},
   "source": [
    "##### Read RAW `El Escorial Criteria` CSV file and show some stats"
   ]
  },
  {
   "cell_type": "code",
   "execution_count": 30,
   "metadata": {},
   "outputs": [
    {
     "name": "stdout",
     "output_type": "stream",
     "text": [
      "subject_id. =  3416 rows (100.0%)     0 with NaN (  0.0%) Uniques=  3416 \n",
      "el_escorial =  3416 rows (100.0%)     0 with NaN (  0.0%) Uniques=     5 \n",
      "delta_days. =  3416 rows (100.0%)     0 with NaN (  0.0%) Uniques=     3 \n"
     ]
    }
   ],
   "source": [
    "#set the data directory\n",
    "data_dir = os.path.abspath('../01_raw_data')\n",
    "\n",
    "#set the name of CSV file\n",
    "data_file = f'{data_dir}/PROACT_ELESCORIAL.csv'\n",
    "\n",
    "#read data and show some info\n",
    "df_raw = pd.read_csv(data_file, delimiter=',')\n",
    "\n",
    "utils.show_columns_stats(df_raw) "
   ]
  },
  {
   "cell_type": "markdown",
   "metadata": {},
   "source": [
    "##### Remove unnecessary column `delta_days` "
   ]
  },
  {
   "cell_type": "code",
   "execution_count": 31,
   "metadata": {},
   "outputs": [
    {
     "name": "stdout",
     "output_type": "stream",
     "text": [
      "subject_id. =  3416 rows (100.0%)     0 with NaN (  0.0%) Uniques=  3416 \n",
      "el_escorial =  3416 rows (100.0%)     0 with NaN (  0.0%) Uniques=     5 \n"
     ]
    }
   ],
   "source": [
    "df_raw.drop(columns=['delta_days'], inplace=True)\n",
    "\n",
    "utils.show_columns_stats(df_raw) "
   ]
  },
  {
   "cell_type": "markdown",
   "metadata": {},
   "source": [
    "##### Rename `el_escorial`  column to `El_Escorial`"
   ]
  },
  {
   "cell_type": "code",
   "execution_count": 32,
   "metadata": {},
   "outputs": [
    {
     "name": "stdout",
     "output_type": "stream",
     "text": [
      "subject_id. =  3416 rows (100.0%)     0 with NaN (  0.0%) Uniques=  3416 \n",
      "El_Escorial =  3416 rows (100.0%)     0 with NaN (  0.0%) Uniques=     5 \n"
     ]
    }
   ],
   "source": [
    "df_raw.rename(columns={\"el_escorial\": \"El_Escorial\"}, inplace=True)\n",
    "utils.show_columns_stats(df_raw) "
   ]
  },
  {
   "cell_type": "markdown",
   "metadata": {},
   "source": [
    "### Join the 2 datasets \n",
    "\n",
    "NOTE: No ERROR occured "
   ]
  },
  {
   "cell_type": "code",
   "execution_count": 33,
   "metadata": {},
   "outputs": [],
   "source": [
    "df = utils.join_datasets_by_key(df_main=df_main, df_to_join=df_raw, key_name='subject_id', how='left')"
   ]
  },
  {
   "cell_type": "markdown",
   "metadata": {},
   "source": [
    "----\n",
    "----\n",
    "----\n",
    "## Plot distribution for `El_Escorial` column"
   ]
  },
  {
   "cell_type": "code",
   "execution_count": 34,
   "metadata": {
    "scrolled": false
   },
   "outputs": [
    {
     "name": "stdout",
     "output_type": "stream",
     "text": [
      "==============================================================================\n",
      "Column: El_Escorial  (DataType: object)\n",
      "==============================================================================\n",
      "N         = 3363 [Non-NaN: 3363]\n",
      "Missingness: 1867 (35.7%)\n",
      "\n",
      "Summary Table:\n",
      "                               count percentage\n",
      "Definite                        1362     40.50%\n",
      "Probable                        1285     38.21%\n",
      "Probable Laboratory Supported    568     16.89%\n",
      "Possible                         148      4.40%\n"
     ]
    },
    {
     "data": {
      "image/png": "[encoded data removed]",
      "text/plain": [
       "<Figure size 1500x500 with 4 Axes>"
      ]
     },
     "metadata": {},
     "output_type": "display_data"
    }
   ],
   "source": [
    "utils.plot_histogram_and_boxplot(\n",
    "    series=df.El_Escorial, \n",
    "    bins=30, \n",
    "    print_more_info=True,\n",
    ")"
   ]
  },
  {
   "cell_type": "markdown",
   "metadata": {},
   "source": [
    "### Show total of samples non-NaN (and NaN) for each column"
   ]
  },
  {
   "cell_type": "code",
   "execution_count": 35,
   "metadata": {},
   "outputs": [
    {
     "name": "stdout",
     "output_type": "stream",
     "text": [
      "subject_id....................... =  5230 rows (100.0%)     0 with NaN (  0.0%) Uniques=  5230 \n",
      "Sex.............................. =  5230 rows (100.0%)     0 with NaN (  0.0%) Uniques=     2 \n",
      "Qty_Measurements_ALSFRS.......... =  5230 rows (100.0%)     0 with NaN (  0.0%) Uniques=    32 \n",
      "Qty_Measurements_VITALSIGNS...... =  5230 rows (100.0%)     0 with NaN (  0.0%) Uniques=    55 \n",
      "Qty_Measurements_FVC............. =  5230 rows (100.0%)     0 with NaN (  0.0%) Uniques=    20 \n",
      "Qty_Measurements_SVC............. =  5230 rows (100.0%)     0 with NaN (  0.0%) Uniques=    17 \n",
      "Qty_Measurements_LABS............ =  5230 rows (100.0%)     0 with NaN (  0.0%) Uniques=   953 \n",
      "Qty_Measurements_HANDGRIPSTRENGTH =  5230 rows (100.0%)     0 with NaN (  0.0%) Uniques=    38 \n",
      "Qty_Measurements_MUSCLESTRENGTH.. =  5230 rows (100.0%)     0 with NaN (  0.0%) Uniques=   293 \n",
      "Qty_Measurements................. =  5230 rows (100.0%)     0 with NaN (  0.0%) Uniques=  1087 \n",
      "Symptoms_Onset_Delta............. =  5230 rows (100.0%)     0 with NaN (  0.0%) Uniques=  1317 \n",
      "Diagnosis_Delta.................. =  5230 rows (100.0%)     0 with NaN (  0.0%) Uniques=   960 \n",
      "Site_Onset....................... =  5230 rows (100.0%)     0 with NaN (  0.0%) Uniques=     4 \n",
      "Diagnosis_Delay.................. =  5230 rows (100.0%)     0 with NaN (  0.0%) Uniques=    69 \n",
      "Diagnosis_Delay_Str.............. =  5230 rows (100.0%)     0 with NaN (  0.0%) Uniques=     3 \n",
      "Diagnosis_Delay_Coded............ =  5230 rows (100.0%)     0 with NaN (  0.0%) Uniques=     3 \n",
      "Age_at_Onset..................... =  5230 rows (100.0%)     0 with NaN (  0.0%) Uniques=    68 \n",
      "Age_Range_at_Onset............... =  5230 rows (100.0%)     0 with NaN (  0.0%) Uniques=     5 \n",
      "Age_Range_at_Onset_Coded......... =  5230 rows (100.0%)     0 with NaN (  0.0%) Uniques=     5 \n",
      "Event_Dead....................... =  5230 rows (100.0%)     0 with NaN (  0.0%) Uniques=     2 \n",
      "Event_Dead_Time_from_Onset....... =  5230 rows (100.0%)     0 with NaN (  0.0%) Uniques=   111 \n",
      "Group_Survival................... =  3795 rows (72.56%)  1435 with NaN (27.44%) Uniques=     3 \n",
      "Group_Survival_Coded............. =  3795 rows (72.56%)  1435 with NaN (27.44%) Uniques=     3 \n",
      "Riluzole......................... =  5230 rows (100.0%)     0 with NaN (  0.0%) Uniques=     2 \n",
      "Riluzole_Time_from_Onset......... =  5230 rows (100.0%)     0 with NaN (  0.0%) Uniques=    92 \n",
      "Height_in_Meters................. =  3331 rows (63.69%)  1899 with NaN (36.31%) Uniques=    58 \n",
      "Qty_Measurements_BMI............. =  5230 rows (100.0%)     0 with NaN (  0.0%) Uniques=    19 \n",
      "El_Escorial...................... =  3363 rows ( 64.3%)  1867 with NaN ( 35.7%) Uniques=     5 \n"
     ]
    }
   ],
   "source": [
    "utils.show_columns_stats(df)"
   ]
  },
  {
   "cell_type": "markdown",
   "metadata": {},
   "source": [
    "----\n",
    "----\n",
    "----\n",
    "# Save the pre-processed data to CSV file"
   ]
  },
  {
   "cell_type": "code",
   "execution_count": 36,
   "metadata": {},
   "outputs": [
    {
     "name": "stdout",
     "output_type": "stream",
     "text": [
      "5230 samples were saved\n"
     ]
    }
   ],
   "source": [
    "dir_dest = os.path.abspath('../03_preprocessed_data/')\n",
    "csv_dest = f'{dir_dest}/_patient.csv'\n",
    "utils.save_to_csv(df=df, csv_file=csv_dest)\n"
   ]
  },
  {
   "cell_type": "markdown",
   "metadata": {},
   "source": [
    "### ######################################################################################\n",
    "### ######################################################################################\n",
    "### ######################################################################################\n",
    "\n"
   ]
  },
  {
   "cell_type": "code",
   "execution_count": null,
   "metadata": {},
   "outputs": [],
   "source": []
  }
 ],
 "metadata": {
  "kernelspec": {
   "display_name": "Python 3 (ipykernel)",
   "language": "python",
   "name": "python3"
  },
  "language_info": {
   "codemirror_mode": {
    "name": "ipython",
    "version": 3
   },
   "file_extension": ".py",
   "mimetype": "text/x-python",
   "name": "python",
   "nbconvert_exporter": "python",
   "pygments_lexer": "ipython3",
   "version": "3.10.9"
  }
 },
 "nbformat": 4,
 "nbformat_minor": 4
}
